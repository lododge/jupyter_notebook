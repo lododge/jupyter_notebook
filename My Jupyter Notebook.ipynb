{
 "cells": [
  {
   "cell_type": "markdown",
   "id": "6b2de4c3-8a75-4018-974d-4f4b7e1dbd76",
   "metadata": {},
   "source": [
    "# My Jupyter Notebook On IBM Watson Studio"
   ]
  },
  {
   "cell_type": "markdown",
   "id": "0861f71d-023a-40ed-916b-564394816e68",
   "metadata": {},
   "source": [
    "**LAUREN DODGE**\n",
    "\n",
    "My desired occupation is to be a data scientist in the healthcare field, using predictive analysis to diagnose diseases and test new drugs using machine learning models."
   ]
  },
  {
   "cell_type": "markdown",
   "id": "a5b13820-514a-4bff-b2d0-fbc108a065f8",
   "metadata": {},
   "source": [
    "*I am interested in data science because I enjoy learning new languages, research, organization, and creating knowledge from chaotic details.*"
   ]
  },
  {
   "cell_type": "markdown",
   "id": "d82812f7-9441-4493-b5db-5e7b90153eda",
   "metadata": {},
   "source": [
    "### The following code will calculate 2 + 3."
   ]
  },
  {
   "cell_type": "code",
   "execution_count": 5,
   "id": "bddaf860-8a7d-4453-83ba-ab7f06e1be4f",
   "metadata": {},
   "outputs": [
    {
     "name": "stdout",
     "output_type": "stream",
     "text": [
      "5\n"
     ]
    }
   ],
   "source": [
    "x = 2\n",
    "y = 3\n",
    "print(x + y)"
   ]
  },
  {
   "cell_type": "markdown",
   "id": "a155a010-6a88-4eae-9d72-2fe53b7a46b7",
   "metadata": {},
   "source": [
    "----\n",
    "\n",
    "[This is a link to Google](https://www.google.com)\n",
    "\n",
    "----\n",
    "\n",
    "[This is a link to Facebook](https://www.facebook.com)\n",
    "\n",
    "----\n",
    "\n",
    "Dogs | `are` | **cool**\n",
    "--- | --- | ---\n",
    "Cats | `are` | *okay*\n",
    "I | love | my dog\n",
    "My | dog | loves me\n",
    "\n",
    "----\n",
    "\n",
    "> I have used hyperlinks, tables, horizontal rule, and block quotes for this assignment."
   ]
  },
  {
   "cell_type": "code",
   "execution_count": null,
   "id": "65ac0943-728c-4a37-8df3-566ab7129e8b",
   "metadata": {},
   "outputs": [],
   "source": []
  }
 ],
 "metadata": {
  "kernelspec": {
   "display_name": "Python",
   "language": "python",
   "name": "conda-env-python-py"
  },
  "language_info": {
   "codemirror_mode": {
    "name": "ipython",
    "version": 3
   },
   "file_extension": ".py",
   "mimetype": "text/x-python",
   "name": "python",
   "nbconvert_exporter": "python",
   "pygments_lexer": "ipython3",
   "version": "3.7.12"
  }
 },
 "nbformat": 4,
 "nbformat_minor": 5
}
